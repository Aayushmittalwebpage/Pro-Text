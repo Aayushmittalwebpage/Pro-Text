{
  "nbformat": 4,
  "nbformat_minor": 0,
  "metadata": {
    "colab": {
      "name": "CRF-BILSTM-No-pretrained-emb.ipynb",
      "provenance": [],
      "authorship_tag": "ABX9TyMV9dSjVNhygIJmGzC3NKAo",
      "include_colab_link": true
    },
    "kernelspec": {
      "name": "python3",
      "display_name": "Python 3"
    }
  },
  "cells": [
    {
      "cell_type": "markdown",
      "metadata": {
        "id": "view-in-github",
        "colab_type": "text"
      },
      "source": [
        "<a href=\"https://colab.research.google.com/github/Aayushmittalwebpage/Pro-Text/blob/master/CRF_BILSTM_No_pretrained_emb.ipynb\" target=\"_parent\"><img src=\"https://colab.research.google.com/assets/colab-badge.svg\" alt=\"Open In Colab\"/></a>"
      ]
    },
    {
      "cell_type": "code",
      "metadata": {
        "id": "yCxXjCGaegNU",
        "colab_type": "code",
        "colab": {}
      },
      "source": [
        "#importing \n",
        "!pip install -U -q PyDrive\n",
        "from pydrive.auth import GoogleAuth\n",
        "from pydrive.drive import GoogleDrive\n",
        "from google.colab import auth\n",
        "from oauth2client.client import GoogleCredentials\n",
        "\n",
        "import pandas as pd\n",
        "import numpy as np\n",
        "\n",
        "auth.authenticate_user()\n",
        "gauth = GoogleAuth()\n",
        "gauth.credentials = GoogleCredentials.get_application_default()\n",
        "drive = GoogleDrive(gauth)"
      ],
      "execution_count": 0,
      "outputs": []
    },
    {
      "cell_type": "code",
      "metadata": {
        "id": "uf0TmGW6fB3p",
        "colab_type": "code",
        "colab": {}
      },
      "source": [
        "downloaded = drive.CreateFile({'id':'1LeWe51FyXVVu1iSf1BIZZo24tif3x12Z'})\n",
        "downloaded.GetContentFile('df1_new.csv') # df1_new is the processed data"
      ],
      "execution_count": 0,
      "outputs": []
    },
    {
      "cell_type": "code",
      "metadata": {
        "id": "RTGIV7BufYBf",
        "colab_type": "code",
        "colab": {
          "base_uri": "https://localhost:8080/",
          "height": 204
        },
        "outputId": "7bebeb27-aeb0-4415-bdb5-589b20992bb8"
      },
      "source": [
        "df1 = pd.read_csv('df1_new.csv')\n",
        "df1.drop([\"Unnamed: 0\"], axis = 1, inplace = True) \n",
        "data = df1\n",
        "data.head()"
      ],
      "execution_count": 3,
      "outputs": [
        {
          "output_type": "execute_result",
          "data": {
            "text/html": [
              "<div>\n",
              "<style scoped>\n",
              "    .dataframe tbody tr th:only-of-type {\n",
              "        vertical-align: middle;\n",
              "    }\n",
              "\n",
              "    .dataframe tbody tr th {\n",
              "        vertical-align: top;\n",
              "    }\n",
              "\n",
              "    .dataframe thead th {\n",
              "        text-align: right;\n",
              "    }\n",
              "</style>\n",
              "<table border=\"1\" class=\"dataframe\">\n",
              "  <thead>\n",
              "    <tr style=\"text-align: right;\">\n",
              "      <th></th>\n",
              "      <th>pos</th>\n",
              "      <th>sentence_idx</th>\n",
              "      <th>word</th>\n",
              "      <th>tag</th>\n",
              "    </tr>\n",
              "  </thead>\n",
              "  <tbody>\n",
              "    <tr>\n",
              "      <th>0</th>\n",
              "      <td>ADV</td>\n",
              "      <td>1</td>\n",
              "      <td>f</td>\n",
              "      <td>_</td>\n",
              "    </tr>\n",
              "    <tr>\n",
              "      <th>1</th>\n",
              "      <td>ADV</td>\n",
              "      <td>1</td>\n",
              "      <td>out</td>\n",
              "      <td>P</td>\n",
              "    </tr>\n",
              "    <tr>\n",
              "      <th>2</th>\n",
              "      <td>ADV</td>\n",
              "      <td>1</td>\n",
              "      <td>out</td>\n",
              "      <td>P</td>\n",
              "    </tr>\n",
              "    <tr>\n",
              "      <th>3</th>\n",
              "      <td>NC</td>\n",
              "      <td>1</td>\n",
              "      <td>sortie</td>\n",
              "      <td>P</td>\n",
              "    </tr>\n",
              "    <tr>\n",
              "      <th>4</th>\n",
              "      <td>DELIM</td>\n",
              "      <td>1</td>\n",
              "      <td>Â§</td>\n",
              "      <td>_</td>\n",
              "    </tr>\n",
              "  </tbody>\n",
              "</table>\n",
              "</div>"
            ],
            "text/plain": [
              "     pos  sentence_idx    word tag\n",
              "0    ADV             1       f   _\n",
              "1    ADV             1     out   P\n",
              "2    ADV             1     out   P\n",
              "3     NC             1  sortie   P\n",
              "4  DELIM             1      Â§   _"
            ]
          },
          "metadata": {
            "tags": []
          },
          "execution_count": 3
        }
      ]
    },
    {
      "cell_type": "code",
      "metadata": {
        "id": "ovtdWQjAf5gg",
        "colab_type": "code",
        "colab": {
          "base_uri": "https://localhost:8080/",
          "height": 34
        },
        "outputId": "f4db3ee5-6900-4665-a021-182184bcb5df"
      },
      "source": [
        "class SentenceGetter(object):\n",
        "\n",
        "    def __init__(self, data):\n",
        "\n",
        "        self.n_sent = 1\n",
        "        self.data = data\n",
        "        self.empty = False\n",
        "        agg_func = lambda s: [(w, p, t) for w, p, t in zip(s[\"word\"].values.tolist(),\n",
        "                                                           s[\"pos\"].values.tolist(),\n",
        "                                                           s[\"tag\"].values.tolist())]\n",
        "        self.grouped = self.data.groupby(\"sentence_idx\").apply(agg_func)\n",
        "        self.sentences = [s for s in self.grouped]\n",
        "    \n",
        "    def get_next(self):\n",
        "        \"\"\"Return one sentence\"\"\"\n",
        "        try:\n",
        "            s = self.grouped[self.n_sent]\n",
        "            self.n_sent += 1\n",
        "            return s\n",
        "        except:\n",
        "            return None\n",
        "        \n",
        "getter = SentenceGetter(data)\n",
        "sent = getter.get_next()\n",
        "print(sent)"
      ],
      "execution_count": 4,
      "outputs": [
        {
          "output_type": "stream",
          "text": [
            "[('f', 'ADV', '_'), ('out', 'ADV', 'P'), ('out', 'ADV', 'P'), ('sortie', 'NC', 'P'), ('Â§', 'DELIM', '_')]\n"
          ],
          "name": "stdout"
        }
      ]
    },
    {
      "cell_type": "code",
      "metadata": {
        "id": "_3QWp89rgQ4u",
        "colab_type": "code",
        "colab": {
          "base_uri": "https://localhost:8080/",
          "height": 68
        },
        "outputId": "4e17fd31-be09-48e4-effb-d6ab32cd00a6"
      },
      "source": [
        "! pip -q install git+https://www.github.com/keras-team/keras-contrib.git sklearn-crfsuite\n",
        "\n",
        "import matplotlib.pyplot as plt\n",
        "import tensorflow as tf\n",
        "import keras"
      ],
      "execution_count": 6,
      "outputs": [
        {
          "output_type": "stream",
          "text": [
            "\u001b[?25l\r\u001b[K     |▍                               | 10kB 22.5MB/s eta 0:00:01\r\u001b[K     |▉                               | 20kB 14.8MB/s eta 0:00:01\r\u001b[K     |█▎                              | 30kB 2.6MB/s eta 0:00:01\r\u001b[K     |█▊                              | 40kB 3.4MB/s eta 0:00:01\r\u001b[K     |██▏                             | 51kB 3.6MB/s eta 0:00:01\r\u001b[K     |██▋                             | 61kB 4.0MB/s eta 0:00:01\r\u001b[K     |███                             | 71kB 4.2MB/s eta 0:00:01\r\u001b[K     |███▌                            | 81kB 4.6MB/s eta 0:00:01\r\u001b[K     |████                            | 92kB 3.8MB/s eta 0:00:01\r\u001b[K     |████▍                           | 102kB 4.0MB/s eta 0:00:01\r\u001b[K     |████▉                           | 112kB 4.0MB/s eta 0:00:01\r\u001b[K     |█████▎                          | 122kB 4.0MB/s eta 0:00:01\r\u001b[K     |█████▊                          | 133kB 4.0MB/s eta 0:00:01\r\u001b[K     |██████▏                         | 143kB 4.0MB/s eta 0:00:01\r\u001b[K     |██████▋                         | 153kB 4.0MB/s eta 0:00:01\r\u001b[K     |███████                         | 163kB 4.0MB/s eta 0:00:01\r\u001b[K     |███████▌                        | 174kB 4.0MB/s eta 0:00:01\r\u001b[K     |████████                        | 184kB 4.0MB/s eta 0:00:01\r\u001b[K     |████████▍                       | 194kB 4.0MB/s eta 0:00:01\r\u001b[K     |████████▉                       | 204kB 4.0MB/s eta 0:00:01\r\u001b[K     |█████████▎                      | 215kB 4.0MB/s eta 0:00:01\r\u001b[K     |█████████▊                      | 225kB 4.0MB/s eta 0:00:01\r\u001b[K     |██████████▏                     | 235kB 4.0MB/s eta 0:00:01\r\u001b[K     |██████████▋                     | 245kB 4.0MB/s eta 0:00:01\r\u001b[K     |███████████                     | 256kB 4.0MB/s eta 0:00:01\r\u001b[K     |███████████▌                    | 266kB 4.0MB/s eta 0:00:01\r\u001b[K     |████████████                    | 276kB 4.0MB/s eta 0:00:01\r\u001b[K     |████████████▎                   | 286kB 4.0MB/s eta 0:00:01\r\u001b[K     |████████████▊                   | 296kB 4.0MB/s eta 0:00:01\r\u001b[K     |█████████████▏                  | 307kB 4.0MB/s eta 0:00:01\r\u001b[K     |█████████████▋                  | 317kB 4.0MB/s eta 0:00:01\r\u001b[K     |██████████████                  | 327kB 4.0MB/s eta 0:00:01\r\u001b[K     |██████████████▌                 | 337kB 4.0MB/s eta 0:00:01\r\u001b[K     |███████████████                 | 348kB 4.0MB/s eta 0:00:01\r\u001b[K     |███████████████▍                | 358kB 4.0MB/s eta 0:00:01\r\u001b[K     |███████████████▉                | 368kB 4.0MB/s eta 0:00:01\r\u001b[K     |████████████████▎               | 378kB 4.0MB/s eta 0:00:01\r\u001b[K     |████████████████▊               | 389kB 4.0MB/s eta 0:00:01\r\u001b[K     |█████████████████▏              | 399kB 4.0MB/s eta 0:00:01\r\u001b[K     |█████████████████▋              | 409kB 4.0MB/s eta 0:00:01\r\u001b[K     |██████████████████              | 419kB 4.0MB/s eta 0:00:01\r\u001b[K     |██████████████████▌             | 430kB 4.0MB/s eta 0:00:01\r\u001b[K     |███████████████████             | 440kB 4.0MB/s eta 0:00:01\r\u001b[K     |███████████████████▍            | 450kB 4.0MB/s eta 0:00:01\r\u001b[K     |███████████████████▉            | 460kB 4.0MB/s eta 0:00:01\r\u001b[K     |████████████████████▎           | 471kB 4.0MB/s eta 0:00:01\r\u001b[K     |████████████████████▊           | 481kB 4.0MB/s eta 0:00:01\r\u001b[K     |█████████████████████▏          | 491kB 4.0MB/s eta 0:00:01\r\u001b[K     |█████████████████████▋          | 501kB 4.0MB/s eta 0:00:01\r\u001b[K     |██████████████████████          | 512kB 4.0MB/s eta 0:00:01\r\u001b[K     |██████████████████████▌         | 522kB 4.0MB/s eta 0:00:01\r\u001b[K     |███████████████████████         | 532kB 4.0MB/s eta 0:00:01\r\u001b[K     |███████████████████████▍        | 542kB 4.0MB/s eta 0:00:01\r\u001b[K     |███████████████████████▉        | 552kB 4.0MB/s eta 0:00:01\r\u001b[K     |████████████████████████▎       | 563kB 4.0MB/s eta 0:00:01\r\u001b[K     |████████████████████████▋       | 573kB 4.0MB/s eta 0:00:01\r\u001b[K     |█████████████████████████       | 583kB 4.0MB/s eta 0:00:01\r\u001b[K     |█████████████████████████▌      | 593kB 4.0MB/s eta 0:00:01\r\u001b[K     |██████████████████████████      | 604kB 4.0MB/s eta 0:00:01\r\u001b[K     |██████████████████████████▍     | 614kB 4.0MB/s eta 0:00:01\r\u001b[K     |██████████████████████████▉     | 624kB 4.0MB/s eta 0:00:01\r\u001b[K     |███████████████████████████▎    | 634kB 4.0MB/s eta 0:00:01\r\u001b[K     |███████████████████████████▊    | 645kB 4.0MB/s eta 0:00:01\r\u001b[K     |████████████████████████████▏   | 655kB 4.0MB/s eta 0:00:01\r\u001b[K     |████████████████████████████▋   | 665kB 4.0MB/s eta 0:00:01\r\u001b[K     |█████████████████████████████   | 675kB 4.0MB/s eta 0:00:01\r\u001b[K     |█████████████████████████████▌  | 686kB 4.0MB/s eta 0:00:01\r\u001b[K     |██████████████████████████████  | 696kB 4.0MB/s eta 0:00:01\r\u001b[K     |██████████████████████████████▍ | 706kB 4.0MB/s eta 0:00:01\r\u001b[K     |██████████████████████████████▉ | 716kB 4.0MB/s eta 0:00:01\r\u001b[K     |███████████████████████████████▎| 727kB 4.0MB/s eta 0:00:01\r\u001b[K     |███████████████████████████████▊| 737kB 4.0MB/s eta 0:00:01\r\u001b[K     |████████████████████████████████| 747kB 4.0MB/s \n",
            "\u001b[?25h  Building wheel for keras-contrib (setup.py) ... \u001b[?25l\u001b[?25hdone\n"
          ],
          "name": "stdout"
        },
        {
          "output_type": "stream",
          "text": [
            "Using TensorFlow backend.\n"
          ],
          "name": "stderr"
        }
      ]
    },
    {
      "cell_type": "code",
      "metadata": {
        "id": "V9hgS8XNgCC_",
        "colab_type": "code",
        "colab": {
          "base_uri": "https://localhost:8080/",
          "height": 295
        },
        "outputId": "c79c265a-01dd-4a98-a1ef-a5a0b212a78c"
      },
      "source": [
        "sentences = getter.sentences\n",
        "\n",
        "# Plot sentence by length\n",
        "plt.hist([len(s) for s in sentences], bins=50)\n",
        "plt.title('Token per sentence')\n",
        "plt.xlabel('Len (number of token)')\n",
        "plt.ylabel('# samples')\n",
        "plt.show()"
      ],
      "execution_count": 7,
      "outputs": [
        {
          "output_type": "display_data",
          "data": {
            "image/png": "[encoded data removed]",
            "text/plain": [
              "<Figure size 432x288 with 1 Axes>"
            ]
          },
          "metadata": {
            "tags": [],
            "needs_background": "light"
          }
        }
      ]
    },
    {
      "cell_type": "code",
      "metadata": {
        "id": "DrcuUlzMgITF",
        "colab_type": "code",
        "colab": {}
      },
      "source": [
        "words = list(set(data[\"word\"].values))\n",
        "n_words = len(words)\n",
        "\n",
        "tags = list(set(data[\"tag\"].values))\n",
        "n_tags = len(tags)\n",
        "\n",
        "word2idx = {w: i + 2 for i, w in enumerate(words)}"
      ],
      "execution_count": 0,
      "outputs": []
    },
    {
      "cell_type": "code",
      "metadata": {
        "id": "CrSPJo9UgdN5",
        "colab_type": "code",
        "colab": {}
      },
      "source": [
        "word2idx[\"UNK\"] = 1 # Unknown words\n",
        "word2idx[\"PAD\"] = 0 # 'PAD' is the word used for smaller sentences, to make the size of all sentences common\n",
        "\n",
        "idx2word = {i: w for w, i in word2idx.items()}\n",
        "tag2idx = {t: i+1 for i, t in enumerate(tags)}\n",
        "tag2idx[\"PAD\"] = 0\n",
        "idx2tag = {i: w for w, i in tag2idx.items()}"
      ],
      "execution_count": 0,
      "outputs": []
    },
    {
      "cell_type": "code",
      "metadata": {
        "id": "m2DyACCch-LT",
        "colab_type": "code",
        "colab": {}
      },
      "source": [
        "MAX_LEN = 75"
      ],
      "execution_count": 0,
      "outputs": []
    },
    {
      "cell_type": "code",
      "metadata": {
        "id": "3gAlEHcEgz_v",
        "colab_type": "code",
        "colab": {}
      },
      "source": [
        "from keras.preprocessing.sequence import pad_sequences\n",
        "# Convert each sentence from list of Token to list of word_index\n",
        "X = [[word2idx[w[0]] for w in s] for s in sentences]\n",
        "# Padding each sentence to have the same lenght\n",
        "X = pad_sequences(maxlen=MAX_LEN, sequences=X, padding=\"post\", value=word2idx[\"PAD\"])"
      ],
      "execution_count": 0,
      "outputs": []
    },
    {
      "cell_type": "code",
      "metadata": {
        "id": "lLeiv-Vpg2WY",
        "colab_type": "code",
        "colab": {}
      },
      "source": [
        "# Convert Tag/Label to tag_index\n",
        "y = [[tag2idx[w[2]] for w in s] for s in sentences]\n",
        "# Padding each sentence to have the same lenght\n",
        "y = pad_sequences(maxlen=MAX_LEN, sequences=y, padding=\"post\", value=tag2idx[\"PAD\"])"
      ],
      "execution_count": 0,
      "outputs": []
    },
    {
      "cell_type": "code",
      "metadata": {
        "id": "oL9G1u44g4nL",
        "colab_type": "code",
        "colab": {}
      },
      "source": [
        "from keras.utils import to_categorical\n",
        "# One-Hot encode\n",
        "y = [to_categorical(i, num_classes=n_tags+1) for i in y]  # n_tags+1(PAD)"
      ],
      "execution_count": 0,
      "outputs": []
    },
    {
      "cell_type": "code",
      "metadata": {
        "id": "1l8IEB0Ng6GR",
        "colab_type": "code",
        "colab": {
          "base_uri": "https://localhost:8080/",
          "height": 34
        },
        "outputId": "ddcce733-b341-42d8-ccfe-3036e1bdd686"
      },
      "source": [
        "# train-test split with 90-10% proportion\n",
        "from sklearn.model_selection import train_test_split\n",
        "X_tr, X_te, y_tr, y_te = train_test_split(X, y, test_size=0.1)\n",
        "X_tr.shape, X_te.shape, np.array(y_tr).shape, np.array(y_te).shape"
      ],
      "execution_count": 16,
      "outputs": [
        {
          "output_type": "execute_result",
          "data": {
            "text/plain": [
              "((1539, 75), (171, 75), (1539, 75, 3), (171, 75, 3))"
            ]
          },
          "metadata": {
            "tags": []
          },
          "execution_count": 16
        }
      ]
    },
    {
      "cell_type": "code",
      "metadata": {
        "id": "7-tLh4XDiUPh",
        "colab_type": "code",
        "colab": {
          "base_uri": "https://localhost:8080/",
          "height": 1000
        },
        "outputId": "60d92504-78fd-470f-c683-59153e0d7cf1"
      },
      "source": [
        "print('Raw Sample: ', ' '.join([w[0] for w in sentences[0]]))\n",
        "print('Raw Label: ', ' '.join([w[2] for w in sentences[0]]))\n",
        "print('After processing, sample:', X[0])\n",
        "print('After processing, labels:', y[0])"
      ],
      "execution_count": 17,
      "outputs": [
        {
          "output_type": "stream",
          "text": [
            "Raw Sample:  f out out sortie Â§\n",
            "Raw Label:  _ P P P _\n",
            "After processing, sample: [1527 3940 3940 2810 4345    0    0    0    0    0    0    0    0    0\n",
            "    0    0    0    0    0    0    0    0    0    0    0    0    0    0\n",
            "    0    0    0    0    0    0    0    0    0    0    0    0    0    0\n",
            "    0    0    0    0    0    0    0    0    0    0    0    0    0    0\n",
            "    0    0    0    0    0    0    0    0    0    0    0    0    0    0\n",
            "    0    0    0    0    0]\n",
            "After processing, labels: [[0. 1. 0.]\n",
            " [0. 0. 1.]\n",
            " [0. 0. 1.]\n",
            " [0. 0. 1.]\n",
            " [0. 1. 0.]\n",
            " [1. 0. 0.]\n",
            " [1. 0. 0.]\n",
            " [1. 0. 0.]\n",
            " [1. 0. 0.]\n",
            " [1. 0. 0.]\n",
            " [1. 0. 0.]\n",
            " [1. 0. 0.]\n",
            " [1. 0. 0.]\n",
            " [1. 0. 0.]\n",
            " [1. 0. 0.]\n",
            " [1. 0. 0.]\n",
            " [1. 0. 0.]\n",
            " [1. 0. 0.]\n",
            " [1. 0. 0.]\n",
            " [1. 0. 0.]\n",
            " [1. 0. 0.]\n",
            " [1. 0. 0.]\n",
            " [1. 0. 0.]\n",
            " [1. 0. 0.]\n",
            " [1. 0. 0.]\n",
            " [1. 0. 0.]\n",
            " [1. 0. 0.]\n",
            " [1. 0. 0.]\n",
            " [1. 0. 0.]\n",
            " [1. 0. 0.]\n",
            " [1. 0. 0.]\n",
            " [1. 0. 0.]\n",
            " [1. 0. 0.]\n",
            " [1. 0. 0.]\n",
            " [1. 0. 0.]\n",
            " [1. 0. 0.]\n",
            " [1. 0. 0.]\n",
            " [1. 0. 0.]\n",
            " [1. 0. 0.]\n",
            " [1. 0. 0.]\n",
            " [1. 0. 0.]\n",
            " [1. 0. 0.]\n",
            " [1. 0. 0.]\n",
            " [1. 0. 0.]\n",
            " [1. 0. 0.]\n",
            " [1. 0. 0.]\n",
            " [1. 0. 0.]\n",
            " [1. 0. 0.]\n",
            " [1. 0. 0.]\n",
            " [1. 0. 0.]\n",
            " [1. 0. 0.]\n",
            " [1. 0. 0.]\n",
            " [1. 0. 0.]\n",
            " [1. 0. 0.]\n",
            " [1. 0. 0.]\n",
            " [1. 0. 0.]\n",
            " [1. 0. 0.]\n",
            " [1. 0. 0.]\n",
            " [1. 0. 0.]\n",
            " [1. 0. 0.]\n",
            " [1. 0. 0.]\n",
            " [1. 0. 0.]\n",
            " [1. 0. 0.]\n",
            " [1. 0. 0.]\n",
            " [1. 0. 0.]\n",
            " [1. 0. 0.]\n",
            " [1. 0. 0.]\n",
            " [1. 0. 0.]\n",
            " [1. 0. 0.]\n",
            " [1. 0. 0.]\n",
            " [1. 0. 0.]\n",
            " [1. 0. 0.]\n",
            " [1. 0. 0.]\n",
            " [1. 0. 0.]\n",
            " [1. 0. 0.]]\n"
          ],
          "name": "stdout"
        }
      ]
    },
    {
      "cell_type": "code",
      "metadata": {
        "id": "pOG-RcvsizFR",
        "colab_type": "code",
        "colab": {}
      },
      "source": [
        "BATCH_SIZE = 32\n",
        "EPOCHS = 5\n",
        "EMBEDDING = 300"
      ],
      "execution_count": 0,
      "outputs": []
    },
    {
      "cell_type": "code",
      "metadata": {
        "id": "MsVX_wM2ihWt",
        "colab_type": "code",
        "colab": {
          "base_uri": "https://localhost:8080/",
          "height": 411
        },
        "outputId": "5adb7e24-cb6c-454e-a36b-535ee7af85b3"
      },
      "source": [
        "from keras.models import Model, Input\n",
        "from keras.layers import LSTM, Embedding, Dense, TimeDistributed, Dropout, Bidirectional\n",
        "from keras_contrib.layers import CRF\n",
        "\n",
        "# Model definition\n",
        "input = Input(shape=(MAX_LEN,))\n",
        "model = Embedding(input_dim=n_words+2, output_dim=EMBEDDING, input_length=MAX_LEN)(input)  \n",
        "model = Bidirectional(LSTM(units=50, return_sequences=True,\n",
        "                           recurrent_dropout=0.1))(model)  # variational biLSTM\n",
        "model = TimeDistributed(Dense(50, activation=\"relu\"))(model)  # a dense layer as suggested by neuralNer\n",
        "crf = CRF(n_tags+1)  # CRF layer, n_tags+1(PAD)\n",
        "out = crf(model)  # output\n",
        "\n",
        "model = Model(input, out)\n",
        "model.compile(optimizer=\"rmsprop\", loss=crf.loss_function, metrics=[crf.accuracy])\n",
        "\n",
        "model.summary()"
      ],
      "execution_count": 19,
      "outputs": [
        {
          "output_type": "stream",
          "text": [
            "/usr/local/lib/python3.6/dist-packages/keras_contrib/layers/crf.py:346: UserWarning: CRF.loss_function is deprecated and it might be removed in the future. Please use losses.crf_loss instead.\n",
            "  warnings.warn('CRF.loss_function is deprecated '\n",
            "/usr/local/lib/python3.6/dist-packages/keras_contrib/layers/crf.py:353: UserWarning: CRF.accuracy is deprecated and it might be removed in the future. Please use metrics.crf_accuracy\n",
            "  warnings.warn('CRF.accuracy is deprecated and it '\n"
          ],
          "name": "stderr"
        },
        {
          "output_type": "stream",
          "text": [
            "Model: \"model_1\"\n",
            "_________________________________________________________________\n",
            "Layer (type)                 Output Shape              Param #   \n",
            "=================================================================\n",
            "input_1 (InputLayer)         (None, 75)                0         \n",
            "_________________________________________________________________\n",
            "embedding_1 (Embedding)      (None, 75, 300)           1429800   \n",
            "_________________________________________________________________\n",
            "bidirectional_1 (Bidirection (None, 75, 100)           140400    \n",
            "_________________________________________________________________\n",
            "time_distributed_1 (TimeDist (None, 75, 50)            5050      \n",
            "_________________________________________________________________\n",
            "crf_1 (CRF)                  (None, 75, 3)             168       \n",
            "=================================================================\n",
            "Total params: 1,575,418\n",
            "Trainable params: 1,575,418\n",
            "Non-trainable params: 0\n",
            "_________________________________________________________________\n"
          ],
          "name": "stdout"
        }
      ]
    },
    {
      "cell_type": "code",
      "metadata": {
        "id": "YFDfWqDjjOLe",
        "colab_type": "code",
        "colab": {
          "base_uri": "https://localhost:8080/",
          "height": 258
        },
        "outputId": "7a71a3f0-f739-4238-b54e-6d08891bdec3"
      },
      "source": [
        "history = model.fit(X_tr, np.array(y_tr), batch_size=BATCH_SIZE, epochs=EPOCHS,  ##1\n",
        "                    validation_split=0.1, verbose=2)"
      ],
      "execution_count": 20,
      "outputs": [
        {
          "output_type": "stream",
          "text": [
            "/usr/local/lib/python3.6/dist-packages/tensorflow/python/framework/indexed_slices.py:434: UserWarning: Converting sparse IndexedSlices to a dense Tensor of unknown shape. This may consume a large amount of memory.\n",
            "  \"Converting sparse IndexedSlices to a dense Tensor of unknown shape. \"\n"
          ],
          "name": "stderr"
        },
        {
          "output_type": "stream",
          "text": [
            "Train on 1385 samples, validate on 154 samples\n",
            "Epoch 1/5\n",
            " - 9s - loss: 0.2300 - crf_viterbi_accuracy: 0.9076 - val_loss: 0.1376 - val_crf_viterbi_accuracy: 0.9572\n",
            "Epoch 2/5\n",
            " - 7s - loss: 0.1368 - crf_viterbi_accuracy: 0.9530 - val_loss: 0.1256 - val_crf_viterbi_accuracy: 0.9573\n",
            "Epoch 3/5\n",
            " - 7s - loss: 0.1233 - crf_viterbi_accuracy: 0.9547 - val_loss: 0.1194 - val_crf_viterbi_accuracy: 0.9580\n",
            "Epoch 4/5\n",
            " - 7s - loss: 0.1156 - crf_viterbi_accuracy: 0.9574 - val_loss: 0.1182 - val_crf_viterbi_accuracy: 0.9599\n",
            "Epoch 5/5\n",
            " - 7s - loss: 0.1081 - crf_viterbi_accuracy: 0.9590 - val_loss: 0.1219 - val_crf_viterbi_accuracy: 0.9567\n"
          ],
          "name": "stdout"
        }
      ]
    },
    {
      "cell_type": "code",
      "metadata": {
        "id": "GOiRNHTfjXUB",
        "colab_type": "code",
        "colab": {
          "base_uri": "https://localhost:8080/",
          "height": 573
        },
        "outputId": "71014f1e-2ec0-4f05-b77f-8496ee9c5cef"
      },
      "source": [
        "# Plot training & validation accuracy values\n",
        "plt.plot(history.history['crf_viterbi_accuracy'])\n",
        "plt.plot(history.history['val_crf_viterbi_accuracy'])\n",
        "plt.title('Model accuracy')\n",
        "plt.ylabel('Accuracy')\n",
        "plt.xlabel('Epoch')\n",
        "plt.legend(['Train', 'Test'])\n",
        "plt.show()\n",
        "\n",
        "# Plot training & validation loss values\n",
        "plt.plot(history.history['loss'])\n",
        "plt.plot(history.history['val_loss'])\n",
        "plt.title('Model loss')\n",
        "plt.ylabel('Loss')\n",
        "plt.xlabel('Epoch')\n",
        "plt.legend(['Train', 'Test'], loc='upper left')\n",
        "plt.show()"
      ],
      "execution_count": 21,
      "outputs": [
        {
          "output_type": "display_data",
          "data": {
            "image/png": "[encoded data removed]",
            "text/plain": [
              "<Figure size 432x288 with 1 Axes>"
            ]
          },
          "metadata": {
            "tags": [],
            "needs_background": "light"
          }
        },
        {
          "output_type": "display_data",
          "data": {
            "image/png": "[encoded data removed]",
            "text/plain": [
              "<Figure size 432x288 with 1 Axes>"
            ]
          },
          "metadata": {
            "tags": [],
            "needs_background": "light"
          }
        }
      ]
    },
    {
      "cell_type": "code",
      "metadata": {
        "id": "8N4AojyBjkRc",
        "colab_type": "code",
        "colab": {}
      },
      "source": [
        "# Evaluation\n",
        "pred_cat = model.predict(X_te)\n",
        "pred = np.argmax(pred_cat, axis=-1)\n",
        "y_te_true = np.argmax(y_te, -1)"
      ],
      "execution_count": 0,
      "outputs": []
    },
    {
      "cell_type": "code",
      "metadata": {
        "id": "KKIaP4SVjl2p",
        "colab_type": "code",
        "colab": {
          "base_uri": "https://localhost:8080/",
          "height": 187
        },
        "outputId": "cb37bd45-e4ca-4b5f-9ce7-fa77116ec72f"
      },
      "source": [
        "from sklearn_crfsuite.metrics import flat_classification_report    ###1\n",
        "# Convert the index to tag\n",
        "pred_tag = [[idx2tag[i] for i in row] for row in pred]\n",
        "y_te_true_tag = [[idx2tag[i] for i in row] for row in y_te_true] \n",
        "\n",
        "report = flat_classification_report(y_pred=pred_tag, y_true=y_te_true_tag)\n",
        "print(report)"
      ],
      "execution_count": 23,
      "outputs": [
        {
          "output_type": "stream",
          "text": [
            "              precision    recall  f1-score   support\n",
            "\n",
            "           P       0.55      0.26      0.36       668\n",
            "         PAD       1.00      1.00      1.00      9079\n",
            "           _       0.86      0.95      0.90      3078\n",
            "\n",
            "    accuracy                           0.95     12825\n",
            "   macro avg       0.80      0.74      0.75     12825\n",
            "weighted avg       0.94      0.95      0.94     12825\n",
            "\n"
          ],
          "name": "stdout"
        }
      ]
    },
    {
      "cell_type": "code",
      "metadata": {
        "id": "0XiW76V6j1WA",
        "colab_type": "code",
        "colab": {}
      },
      "source": [
        ""
      ],
      "execution_count": 0,
      "outputs": []
    }
  ]
}