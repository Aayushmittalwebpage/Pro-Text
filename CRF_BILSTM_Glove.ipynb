{
  "nbformat": 4,
  "nbformat_minor": 0,
  "metadata": {
    "colab": {
      "name": "CRF-BILSTM-Glove.ipynb",
      "provenance": [],
      "collapsed_sections": [],
      "authorship_tag": "ABX9TyO09xao3D+zECuM89PThOZ3",
      "include_colab_link": true
    },
    "kernelspec": {
      "name": "python3",
      "display_name": "Python 3"
    }
  },
  "cells": [
    {
      "cell_type": "markdown",
      "metadata": {
        "id": "view-in-github",
        "colab_type": "text"
      },
      "source": [
        "<a href=\"https://colab.research.google.com/github/Aayushmittalwebpage/Pro-Text/blob/master/CRF_BILSTM_Glove.ipynb\" target=\"_parent\"><img src=\"https://colab.research.google.com/assets/colab-badge.svg\" alt=\"Open In Colab\"/></a>"
      ]
    },
    {
      "cell_type": "code",
      "metadata": {
        "id": "enfstifEeOop",
        "colab_type": "code",
        "colab": {}
      },
      "source": [
        "#importing \n",
        "!pip install -U -q PyDrive\n",
        "from pydrive.auth import GoogleAuth\n",
        "from pydrive.drive import GoogleDrive\n",
        "from google.colab import auth\n",
        "from oauth2client.client import GoogleCredentials\n",
        "\n",
        "import pandas as pd\n",
        "import numpy as np\n",
        "\n",
        "auth.authenticate_user()\n",
        "gauth = GoogleAuth()\n",
        "gauth.credentials = GoogleCredentials.get_application_default()\n",
        "drive = GoogleDrive(gauth)"
      ],
      "execution_count": 0,
      "outputs": []
    },
    {
      "cell_type": "code",
      "metadata": {
        "id": "Q8b-p-BQeVtd",
        "colab_type": "code",
        "colab": {}
      },
      "source": [
        "downloaded = drive.CreateFile({'id':'1LeWe51FyXVVu1iSf1BIZZo24tif3x12Z'})\n",
        "downloaded.GetContentFile('df1_new.csv') # df1_new is the processed data"
      ],
      "execution_count": 0,
      "outputs": []
    },
    {
      "cell_type": "code",
      "metadata": {
        "id": "5wR3UvojeXpw",
        "colab_type": "code",
        "outputId": "0501f6cf-6271-4ef1-b05a-3ace3fe4d1a2",
        "colab": {
          "base_uri": "https://localhost:8080/",
          "height": 204
        }
      },
      "source": [
        "df1 = pd.read_csv('df1_new.csv')\n",
        "df1.drop([\"Unnamed: 0\"], axis = 1, inplace = True) \n",
        "data = df1\n",
        "data.head()"
      ],
      "execution_count": 0,
      "outputs": [
        {
          "output_type": "execute_result",
          "data": {
            "text/html": [
              "<div>\n",
              "<style scoped>\n",
              "    .dataframe tbody tr th:only-of-type {\n",
              "        vertical-align: middle;\n",
              "    }\n",
              "\n",
              "    .dataframe tbody tr th {\n",
              "        vertical-align: top;\n",
              "    }\n",
              "\n",
              "    .dataframe thead th {\n",
              "        text-align: right;\n",
              "    }\n",
              "</style>\n",
              "<table border=\"1\" class=\"dataframe\">\n",
              "  <thead>\n",
              "    <tr style=\"text-align: right;\">\n",
              "      <th></th>\n",
              "      <th>pos</th>\n",
              "      <th>sentence_idx</th>\n",
              "      <th>word</th>\n",
              "      <th>tag</th>\n",
              "    </tr>\n",
              "  </thead>\n",
              "  <tbody>\n",
              "    <tr>\n",
              "      <th>0</th>\n",
              "      <td>ADV</td>\n",
              "      <td>1</td>\n",
              "      <td>f</td>\n",
              "      <td>_</td>\n",
              "    </tr>\n",
              "    <tr>\n",
              "      <th>1</th>\n",
              "      <td>ADV</td>\n",
              "      <td>1</td>\n",
              "      <td>out</td>\n",
              "      <td>P</td>\n",
              "    </tr>\n",
              "    <tr>\n",
              "      <th>2</th>\n",
              "      <td>ADV</td>\n",
              "      <td>1</td>\n",
              "      <td>out</td>\n",
              "      <td>P</td>\n",
              "    </tr>\n",
              "    <tr>\n",
              "      <th>3</th>\n",
              "      <td>NC</td>\n",
              "      <td>1</td>\n",
              "      <td>sortie</td>\n",
              "      <td>P</td>\n",
              "    </tr>\n",
              "    <tr>\n",
              "      <th>4</th>\n",
              "      <td>DELIM</td>\n",
              "      <td>1</td>\n",
              "      <td>Â§</td>\n",
              "      <td>_</td>\n",
              "    </tr>\n",
              "  </tbody>\n",
              "</table>\n",
              "</div>"
            ],
            "text/plain": [
              "     pos  sentence_idx    word tag\n",
              "0    ADV             1       f   _\n",
              "1    ADV             1     out   P\n",
              "2    ADV             1     out   P\n",
              "3     NC             1  sortie   P\n",
              "4  DELIM             1      Â§   _"
            ]
          },
          "metadata": {
            "tags": []
          },
          "execution_count": 3
        }
      ]
    },
    {
      "cell_type": "code",
      "metadata": {
        "id": "f8tMrY6_B6qw",
        "colab_type": "code",
        "outputId": "c3b4db3f-deee-4052-9401-534fa2b33031",
        "colab": {
          "base_uri": "https://localhost:8080/",
          "height": 68
        }
      },
      "source": [
        "! pip -q install git+https://www.github.com/keras-team/keras-contrib.git sklearn-crfsuite\n",
        "\n",
        "\n",
        "import matplotlib.pyplot as plt\n",
        "import tensorflow as tf\n",
        "import keras"
      ],
      "execution_count": 0,
      "outputs": [
        {
          "output_type": "stream",
          "text": [
            "\u001b[?25l\r\u001b[K     |▍                               | 10kB 19.8MB/s eta 0:00:01\r\u001b[K     |▉                               | 20kB 11.1MB/s eta 0:00:01\r\u001b[K     |█▎                              | 30kB 2.6MB/s eta 0:00:01\r\u001b[K     |█▊                              | 40kB 3.3MB/s eta 0:00:01\r\u001b[K     |██▏                             | 51kB 3.5MB/s eta 0:00:01\r\u001b[K     |██▋                             | 61kB 3.9MB/s eta 0:00:01\r\u001b[K     |███                             | 71kB 4.1MB/s eta 0:00:01\r\u001b[K     |███▌                            | 81kB 4.3MB/s eta 0:00:01\r\u001b[K     |████                            | 92kB 3.7MB/s eta 0:00:01\r\u001b[K     |████▍                           | 102kB 4.0MB/s eta 0:00:01\r\u001b[K     |████▉                           | 112kB 4.0MB/s eta 0:00:01\r\u001b[K     |█████▎                          | 122kB 4.0MB/s eta 0:00:01\r\u001b[K     |█████▊                          | 133kB 4.0MB/s eta 0:00:01\r\u001b[K     |██████▏                         | 143kB 4.0MB/s eta 0:00:01\r\u001b[K     |██████▋                         | 153kB 4.0MB/s eta 0:00:01\r\u001b[K     |███████                         | 163kB 4.0MB/s eta 0:00:01\r\u001b[K     |███████▌                        | 174kB 4.0MB/s eta 0:00:01\r\u001b[K     |████████                        | 184kB 4.0MB/s eta 0:00:01\r\u001b[K     |████████▍                       | 194kB 4.0MB/s eta 0:00:01\r\u001b[K     |████████▉                       | 204kB 4.0MB/s eta 0:00:01\r\u001b[K     |█████████▎                      | 215kB 4.0MB/s eta 0:00:01\r\u001b[K     |█████████▊                      | 225kB 4.0MB/s eta 0:00:01\r\u001b[K     |██████████▏                     | 235kB 4.0MB/s eta 0:00:01\r\u001b[K     |██████████▋                     | 245kB 4.0MB/s eta 0:00:01\r\u001b[K     |███████████                     | 256kB 4.0MB/s eta 0:00:01\r\u001b[K     |███████████▌                    | 266kB 4.0MB/s eta 0:00:01\r\u001b[K     |████████████                    | 276kB 4.0MB/s eta 0:00:01\r\u001b[K     |████████████▎                   | 286kB 4.0MB/s eta 0:00:01\r\u001b[K     |████████████▊                   | 296kB 4.0MB/s eta 0:00:01\r\u001b[K     |█████████████▏                  | 307kB 4.0MB/s eta 0:00:01\r\u001b[K     |█████████████▋                  | 317kB 4.0MB/s eta 0:00:01\r\u001b[K     |██████████████                  | 327kB 4.0MB/s eta 0:00:01\r\u001b[K     |██████████████▌                 | 337kB 4.0MB/s eta 0:00:01\r\u001b[K     |███████████████                 | 348kB 4.0MB/s eta 0:00:01\r\u001b[K     |███████████████▍                | 358kB 4.0MB/s eta 0:00:01\r\u001b[K     |███████████████▉                | 368kB 4.0MB/s eta 0:00:01\r\u001b[K     |████████████████▎               | 378kB 4.0MB/s eta 0:00:01\r\u001b[K     |████████████████▊               | 389kB 4.0MB/s eta 0:00:01\r\u001b[K     |█████████████████▏              | 399kB 4.0MB/s eta 0:00:01\r\u001b[K     |█████████████████▋              | 409kB 4.0MB/s eta 0:00:01\r\u001b[K     |██████████████████              | 419kB 4.0MB/s eta 0:00:01\r\u001b[K     |██████████████████▌             | 430kB 4.0MB/s eta 0:00:01\r\u001b[K     |███████████████████             | 440kB 4.0MB/s eta 0:00:01\r\u001b[K     |███████████████████▍            | 450kB 4.0MB/s eta 0:00:01\r\u001b[K     |███████████████████▉            | 460kB 4.0MB/s eta 0:00:01\r\u001b[K     |████████████████████▎           | 471kB 4.0MB/s eta 0:00:01\r\u001b[K     |████████████████████▊           | 481kB 4.0MB/s eta 0:00:01\r\u001b[K     |█████████████████████▏          | 491kB 4.0MB/s eta 0:00:01\r\u001b[K     |█████████████████████▋          | 501kB 4.0MB/s eta 0:00:01\r\u001b[K     |██████████████████████          | 512kB 4.0MB/s eta 0:00:01\r\u001b[K     |██████████████████████▌         | 522kB 4.0MB/s eta 0:00:01\r\u001b[K     |███████████████████████         | 532kB 4.0MB/s eta 0:00:01\r\u001b[K     |███████████████████████▍        | 542kB 4.0MB/s eta 0:00:01\r\u001b[K     |███████████████████████▉        | 552kB 4.0MB/s eta 0:00:01\r\u001b[K     |████████████████████████▎       | 563kB 4.0MB/s eta 0:00:01\r\u001b[K     |████████████████████████▋       | 573kB 4.0MB/s eta 0:00:01\r\u001b[K     |█████████████████████████       | 583kB 4.0MB/s eta 0:00:01\r\u001b[K     |█████████████████████████▌      | 593kB 4.0MB/s eta 0:00:01\r\u001b[K     |██████████████████████████      | 604kB 4.0MB/s eta 0:00:01\r\u001b[K     |██████████████████████████▍     | 614kB 4.0MB/s eta 0:00:01\r\u001b[K     |██████████████████████████▉     | 624kB 4.0MB/s eta 0:00:01\r\u001b[K     |███████████████████████████▎    | 634kB 4.0MB/s eta 0:00:01\r\u001b[K     |███████████████████████████▊    | 645kB 4.0MB/s eta 0:00:01\r\u001b[K     |████████████████████████████▏   | 655kB 4.0MB/s eta 0:00:01\r\u001b[K     |████████████████████████████▋   | 665kB 4.0MB/s eta 0:00:01\r\u001b[K     |█████████████████████████████   | 675kB 4.0MB/s eta 0:00:01\r\u001b[K     |█████████████████████████████▌  | 686kB 4.0MB/s eta 0:00:01\r\u001b[K     |██████████████████████████████  | 696kB 4.0MB/s eta 0:00:01\r\u001b[K     |██████████████████████████████▍ | 706kB 4.0MB/s eta 0:00:01\r\u001b[K     |██████████████████████████████▉ | 716kB 4.0MB/s eta 0:00:01\r\u001b[K     |███████████████████████████████▎| 727kB 4.0MB/s eta 0:00:01\r\u001b[K     |███████████████████████████████▊| 737kB 4.0MB/s eta 0:00:01\r\u001b[K     |████████████████████████████████| 747kB 4.0MB/s \n",
            "\u001b[?25h  Building wheel for keras-contrib (setup.py) ... \u001b[?25l\u001b[?25hdone\n"
          ],
          "name": "stdout"
        },
        {
          "output_type": "stream",
          "text": [
            "Using TensorFlow backend.\n"
          ],
          "name": "stderr"
        }
      ]
    },
    {
      "cell_type": "code",
      "metadata": {
        "id": "C2eUFTA6nYFU",
        "colab_type": "code",
        "outputId": "204d24cb-a8f0-4172-d890-a0596076e6eb",
        "colab": {
          "base_uri": "https://localhost:8080/",
          "height": 357
        }
      },
      "source": [
        "!wget http://nlp.stanford.edu/data/glove.6B.zip\n"
      ],
      "execution_count": 0,
      "outputs": [
        {
          "output_type": "stream",
          "text": [
            "--2020-05-19 11:08:17--  http://nlp.stanford.edu/data/glove.6B.zip\n",
            "Resolving nlp.stanford.edu (nlp.stanford.edu)... 171.64.67.140\n",
            "Connecting to nlp.stanford.edu (nlp.stanford.edu)|171.64.67.140|:80... connected.\n",
            "HTTP request sent, awaiting response... 302 Found\n",
            "Location: https://nlp.stanford.edu/data/glove.6B.zip [following]\n",
            "--2020-05-19 11:08:17--  https://nlp.stanford.edu/data/glove.6B.zip\n",
            "Connecting to nlp.stanford.edu (nlp.stanford.edu)|171.64.67.140|:443... connected.\n",
            "HTTP request sent, awaiting response... 301 Moved Permanently\n",
            "Location: http://downloads.cs.stanford.edu/nlp/data/glove.6B.zip [following]\n",
            "--2020-05-19 11:08:18--  http://downloads.cs.stanford.edu/nlp/data/glove.6B.zip\n",
            "Resolving downloads.cs.stanford.edu (downloads.cs.stanford.edu)... 171.64.64.22\n",
            "Connecting to downloads.cs.stanford.edu (downloads.cs.stanford.edu)|171.64.64.22|:80... connected.\n",
            "HTTP request sent, awaiting response... 200 OK\n",
            "Length: 862182613 (822M) [application/zip]\n",
            "Saving to: ‘glove.6B.zip’\n",
            "\n",
            "glove.6B.zip        100%[===================>] 822.24M  1.98MB/s    in 6m 30s  \n",
            "\n",
            "2020-05-19 11:14:48 (2.11 MB/s) - ‘glove.6B.zip’ saved [862182613/862182613]\n",
            "\n"
          ],
          "name": "stdout"
        }
      ]
    },
    {
      "cell_type": "code",
      "metadata": {
        "id": "Nxx9ENi1nYCz",
        "colab_type": "code",
        "outputId": "74fbd35c-3c34-4427-bed9-214bcdbcba9f",
        "colab": {
          "base_uri": "https://localhost:8080/",
          "height": 136
        }
      },
      "source": [
        "!unzip glove*.zip\n",
        "\n",
        "!ls"
      ],
      "execution_count": 0,
      "outputs": [
        {
          "output_type": "stream",
          "text": [
            "Archive:  glove.6B.zip\n",
            "  inflating: glove.6B.50d.txt        \n",
            "  inflating: glove.6B.100d.txt       \n",
            "  inflating: glove.6B.200d.txt       \n",
            "  inflating: glove.6B.300d.txt       \n",
            "adc.json     glove.6B.100d.txt\tglove.6B.300d.txt  glove.6B.zip\n",
            "df1_new.csv  glove.6B.200d.txt\tglove.6B.50d.txt   sample_data\n"
          ],
          "name": "stdout"
        }
      ]
    },
    {
      "cell_type": "code",
      "metadata": {
        "id": "yyzEy65InX_G",
        "colab_type": "code",
        "outputId": "1f4be521-1770-4937-f28a-a697ffe78a09",
        "colab": {
          "base_uri": "https://localhost:8080/",
          "height": 51
        }
      },
      "source": [
        "# importing glove\n",
        "print('Indexing word vectors.')\n",
        "\n",
        "embeddings_index = {}\n",
        "f = open('glove.6B.300d.txt', encoding='utf-8')\n",
        "for line in f:\n",
        "    values = line.split()\n",
        "    word = values[0]\n",
        "    coefs = np.asarray(values[1:], dtype='float32')\n",
        "    embeddings_index[word] = coefs\n",
        "f.close()\n",
        "\n",
        "print('Found %s word vectors.' % len(embeddings_index))"
      ],
      "execution_count": 0,
      "outputs": [
        {
          "output_type": "stream",
          "text": [
            "Indexing word vectors.\n",
            "Found 400000 word vectors.\n"
          ],
          "name": "stdout"
        }
      ]
    },
    {
      "cell_type": "code",
      "metadata": {
        "id": "EeSz0BD_B_ru",
        "colab_type": "code",
        "outputId": "72712481-f5b6-4021-c9bb-509ca9993651",
        "colab": {
          "base_uri": "https://localhost:8080/",
          "height": 88
        }
      },
      "source": [
        "BATCH_SIZE = 32\n",
        "EPOCHS = 5\n",
        "MAX_LEN = 75\n",
        "EMBEDDING = 300"
      ],
      "execution_count": 0,
      "outputs": [
        {
          "output_type": "stream",
          "text": [
            "WARNING:tensorflow:From <ipython-input-10-318dd940db01>:1: is_gpu_available (from tensorflow.python.framework.test_util) is deprecated and will be removed in a future version.\n",
            "Instructions for updating:\n",
            "Use `tf.config.list_physical_devices('GPU')` instead.\n"
          ],
          "name": "stdout"
        }
      ]
    },
    {
      "cell_type": "code",
      "metadata": {
        "id": "YFQ3IpVOCI-I",
        "colab_type": "code",
        "outputId": "a79dbdc7-ae4f-41df-bb90-61275e7f1e14",
        "colab": {
          "base_uri": "https://localhost:8080/",
          "height": 51
        }
      },
      "source": [
        "class SentenceGetter(object):\n",
        "\n",
        "    def __init__(self, data):\n",
        "        \"\"\"Args:\n",
        "            data is the pandas.DataFrame which contains the above dataset\"\"\"\n",
        "        self.n_sent = 1\n",
        "        self.data = data\n",
        "        self.empty = False\n",
        "        agg_func = lambda s: [(w, p, t) for w, p, t in zip(s[\"word\"].values.tolist(),\n",
        "                                                           s[\"pos\"].values.tolist(),\n",
        "                                                           s[\"tag\"].values.tolist())]\n",
        "        self.grouped = self.data.groupby(\"sentence_idx\").apply(agg_func)\n",
        "        self.sentences = [s for s in self.grouped]\n",
        "    \n",
        "    def get_next(self):\n",
        "        \"\"\"Return one sentence\"\"\"\n",
        "        try:\n",
        "            s = self.grouped[self.n_sent]\n",
        "            self.n_sent += 1\n",
        "            return s\n",
        "        except:\n",
        "            return None\n",
        "        \n",
        "getter = SentenceGetter(data)\n",
        "sent = getter.get_next()\n",
        "print('This is what a sentence looks like:')\n",
        "print(sent)"
      ],
      "execution_count": 0,
      "outputs": [
        {
          "output_type": "stream",
          "text": [
            "This is what a sentence looks like:\n",
            "[('f', 'ADV', '_'), ('out', 'ADV', 'P'), ('out', 'ADV', 'P'), ('sortie', 'NC', 'P'), ('Â§', 'DELIM', '_')]\n"
          ],
          "name": "stdout"
        }
      ]
    },
    {
      "cell_type": "code",
      "metadata": {
        "id": "mhvIqMtSCI6u",
        "colab_type": "code",
        "outputId": "cab64b7c-98e5-4c9a-a2d5-9592e2e532ba",
        "colab": {
          "base_uri": "https://localhost:8080/",
          "height": 295
        }
      },
      "source": [
        "sentences = getter.sentences\n",
        "\n",
        "# Plot sentence by lenght\n",
        "plt.hist([len(s) for s in sentences], bins=50)\n",
        "plt.title('Token per sentence')\n",
        "plt.xlabel('Len (number of token)')\n",
        "plt.ylabel('# samples')\n",
        "plt.show()"
      ],
      "execution_count": 0,
      "outputs": [
        {
          "output_type": "display_data",
          "data": {
            "image/png": "[encoded data removed]",
            "text/plain": [
              "<Figure size 432x288 with 1 Axes>"
            ]
          },
          "metadata": {
            "tags": [],
            "needs_background": "light"
          }
        }
      ]
    },
    {
      "cell_type": "code",
      "metadata": {
        "id": "-gLRVfzuCI4I",
        "colab_type": "code",
        "colab": {}
      },
      "source": [
        "words = list(set(data[\"word\"].values))\n",
        "n_words = len(words)\n",
        "\n",
        "tags = list(set(data[\"tag\"].values))\n",
        "n_tags = len(tags)\n",
        "\n",
        "word2idx = {w: i + 2 for i, w in enumerate(words)}"
      ],
      "execution_count": 0,
      "outputs": []
    },
    {
      "cell_type": "code",
      "metadata": {
        "id": "iAheSIm_CI1h",
        "colab_type": "code",
        "colab": {}
      },
      "source": [
        "word2idx[\"UNK\"] = 1 # Unknown words\n",
        "word2idx[\"PAD\"] = 0 # 'PAD' is the word used for smaller sentences, to make the size of all sentences common"
      ],
      "execution_count": 0,
      "outputs": []
    },
    {
      "cell_type": "code",
      "metadata": {
        "id": "Ho4qQkx1CIzd",
        "colab_type": "code",
        "colab": {}
      },
      "source": [
        "idx2word = {i: w for w, i in word2idx.items()}\n",
        "tag2idx = {t: i+1 for i, t in enumerate(tags)}\n",
        "tag2idx[\"PAD\"] = 0\n",
        "idx2tag = {i: w for w, i in tag2idx.items()}"
      ],
      "execution_count": 0,
      "outputs": []
    },
    {
      "cell_type": "code",
      "metadata": {
        "id": "3jb1q2D6FHuz",
        "colab_type": "code",
        "outputId": "9bdc4844-5092-44d3-c147-887ad8528c78",
        "colab": {
          "base_uri": "https://localhost:8080/",
          "height": 34
        }
      },
      "source": [
        "idx2tag"
      ],
      "execution_count": 0,
      "outputs": [
        {
          "output_type": "execute_result",
          "data": {
            "text/plain": [
              "{0: 'PAD', 1: '_', 2: 'P'}"
            ]
          },
          "metadata": {
            "tags": []
          },
          "execution_count": 15
        }
      ]
    },
    {
      "cell_type": "code",
      "metadata": {
        "id": "N7kh8xjfCIwr",
        "colab_type": "code",
        "colab": {}
      },
      "source": [
        "from keras.preprocessing.sequence import pad_sequences\n",
        "# Convert each sentence from list of Token to list of word_index\n",
        "X = [[word2idx[w[0]] for w in s] for s in sentences]\n",
        "# Padding each sentence to have the same lenght\n",
        "X = pad_sequences(maxlen=MAX_LEN, sequences=X, padding=\"post\", value=word2idx[\"PAD\"])"
      ],
      "execution_count": 0,
      "outputs": []
    },
    {
      "cell_type": "code",
      "metadata": {
        "id": "rYhrcPJxCIvC",
        "colab_type": "code",
        "colab": {}
      },
      "source": [
        "# Convert Tag/Label to tag_index\n",
        "y = [[tag2idx[w[2]] for w in s] for s in sentences]\n",
        "# Padding each sentence to have the same lenght\n",
        "y = pad_sequences(maxlen=MAX_LEN, sequences=y, padding=\"post\", value=tag2idx[\"PAD\"])"
      ],
      "execution_count": 0,
      "outputs": []
    },
    {
      "cell_type": "code",
      "metadata": {
        "id": "0YelLnE1CIrv",
        "colab_type": "code",
        "colab": {}
      },
      "source": [
        "from keras.utils import to_categorical\n",
        "# One-Hot encode\n",
        "y = [to_categorical(i, num_classes=n_tags+1) for i in y]  # n_tags+1(PAD)"
      ],
      "execution_count": 0,
      "outputs": []
    },
    {
      "cell_type": "code",
      "metadata": {
        "id": "D_MzY0oCCIpY",
        "colab_type": "code",
        "outputId": "75d68f3c-b888-479b-f2fb-61f4e4c30d64",
        "colab": {
          "base_uri": "https://localhost:8080/",
          "height": 34
        }
      },
      "source": [
        "from sklearn.model_selection import train_test_split\n",
        "X_tr, X_te, y_tr, y_te = train_test_split(X, y, test_size=0.1)\n",
        "X_tr.shape, X_te.shape, np.array(y_tr).shape, np.array(y_te).shape"
      ],
      "execution_count": 0,
      "outputs": [
        {
          "output_type": "execute_result",
          "data": {
            "text/plain": [
              "((1539, 75), (171, 75), (1539, 75, 3), (171, 75, 3))"
            ]
          },
          "metadata": {
            "tags": []
          },
          "execution_count": 23
        }
      ]
    },
    {
      "cell_type": "code",
      "metadata": {
        "id": "PM6b_aZCEvMV",
        "colab_type": "code",
        "outputId": "4cae7e5b-1ff5-4e4b-a1b1-fc4122e957c4",
        "colab": {
          "base_uri": "https://localhost:8080/",
          "height": 1000
        }
      },
      "source": [
        "print('Raw Sample: ', ' '.join([w[0] for w in sentences[0]]))\n",
        "print('Raw Label: ', ' '.join([w[2] for w in sentences[0]]))\n",
        "print('After processing, sample:', X[0])\n",
        "print('After processing, labels:', y[0])"
      ],
      "execution_count": 0,
      "outputs": [
        {
          "output_type": "stream",
          "text": [
            "Raw Sample:  f out out sortie Â§\n",
            "Raw Label:  _ P P P _\n",
            "After processing, sample: [1590 2208 2208 3155  608    0    0    0    0    0    0    0    0    0\n",
            "    0    0    0    0    0    0    0    0    0    0    0    0    0    0\n",
            "    0    0    0    0    0    0    0    0    0    0    0    0    0    0\n",
            "    0    0    0    0    0    0    0    0    0    0    0    0    0    0\n",
            "    0    0    0    0    0    0    0    0    0    0    0    0    0    0\n",
            "    0    0    0    0    0    0    0    0    0    0]\n",
            "After processing, labels: [[0. 1. 0.]\n",
            " [0. 0. 1.]\n",
            " [0. 0. 1.]\n",
            " [0. 0. 1.]\n",
            " [0. 1. 0.]\n",
            " [1. 0. 0.]\n",
            " [1. 0. 0.]\n",
            " [1. 0. 0.]\n",
            " [1. 0. 0.]\n",
            " [1. 0. 0.]\n",
            " [1. 0. 0.]\n",
            " [1. 0. 0.]\n",
            " [1. 0. 0.]\n",
            " [1. 0. 0.]\n",
            " [1. 0. 0.]\n",
            " [1. 0. 0.]\n",
            " [1. 0. 0.]\n",
            " [1. 0. 0.]\n",
            " [1. 0. 0.]\n",
            " [1. 0. 0.]\n",
            " [1. 0. 0.]\n",
            " [1. 0. 0.]\n",
            " [1. 0. 0.]\n",
            " [1. 0. 0.]\n",
            " [1. 0. 0.]\n",
            " [1. 0. 0.]\n",
            " [1. 0. 0.]\n",
            " [1. 0. 0.]\n",
            " [1. 0. 0.]\n",
            " [1. 0. 0.]\n",
            " [1. 0. 0.]\n",
            " [1. 0. 0.]\n",
            " [1. 0. 0.]\n",
            " [1. 0. 0.]\n",
            " [1. 0. 0.]\n",
            " [1. 0. 0.]\n",
            " [1. 0. 0.]\n",
            " [1. 0. 0.]\n",
            " [1. 0. 0.]\n",
            " [1. 0. 0.]\n",
            " [1. 0. 0.]\n",
            " [1. 0. 0.]\n",
            " [1. 0. 0.]\n",
            " [1. 0. 0.]\n",
            " [1. 0. 0.]\n",
            " [1. 0. 0.]\n",
            " [1. 0. 0.]\n",
            " [1. 0. 0.]\n",
            " [1. 0. 0.]\n",
            " [1. 0. 0.]\n",
            " [1. 0. 0.]\n",
            " [1. 0. 0.]\n",
            " [1. 0. 0.]\n",
            " [1. 0. 0.]\n",
            " [1. 0. 0.]\n",
            " [1. 0. 0.]\n",
            " [1. 0. 0.]\n",
            " [1. 0. 0.]\n",
            " [1. 0. 0.]\n",
            " [1. 0. 0.]\n",
            " [1. 0. 0.]\n",
            " [1. 0. 0.]\n",
            " [1. 0. 0.]\n",
            " [1. 0. 0.]\n",
            " [1. 0. 0.]\n",
            " [1. 0. 0.]\n",
            " [1. 0. 0.]\n",
            " [1. 0. 0.]\n",
            " [1. 0. 0.]\n",
            " [1. 0. 0.]\n",
            " [1. 0. 0.]\n",
            " [1. 0. 0.]\n",
            " [1. 0. 0.]\n",
            " [1. 0. 0.]\n",
            " [1. 0. 0.]\n",
            " [1. 0. 0.]\n",
            " [1. 0. 0.]\n",
            " [1. 0. 0.]\n",
            " [1. 0. 0.]\n",
            " [1. 0. 0.]]\n"
          ],
          "name": "stdout"
        }
      ]
    },
    {
      "cell_type": "code",
      "metadata": {
        "id": "qQa71jHQmvGx",
        "colab_type": "code",
        "colab": {}
      },
      "source": [
        "n_wor = n_words+2 \n",
        "num_words = min(n_wor, len(word2idx) + 1)\n",
        "embedding_matrix = np.zeros((num_words, 300))\n",
        "for word, i in word2idx.items():\n",
        "    if i >= n_wor:\n",
        "        continue\n",
        "    embedding_vector = embeddings_index.get(word)\n",
        "    if embedding_vector is not None:\n",
        "        embedding_matrix[i] = embedding_vector"
      ],
      "execution_count": 0,
      "outputs": []
    },
    {
      "cell_type": "code",
      "metadata": {
        "id": "23CYTXSsCImp",
        "colab_type": "code",
        "outputId": "90edcdb5-1106-4371-dc04-8503ecfc376b",
        "colab": {
          "base_uri": "https://localhost:8080/",
          "height": 411
        }
      },
      "source": [
        "from keras.models import Model, Input\n",
        "from keras.layers import LSTM, Embedding, Dense, TimeDistributed, Dropout, Bidirectional\n",
        "from keras_contrib.layers import CRF\n",
        "\n",
        "# Model definition\n",
        "input = Input(shape=(MAX_LEN,))\n",
        "model = Embedding(input_dim=n_words+2, output_dim=EMBEDDING, input_length=MAX_LEN, weights=[embedding_matrix])(input)  \n",
        "model = Bidirectional(LSTM(units=50, return_sequences=True,\n",
        "                           recurrent_dropout=0.1))(model)  # variational biLSTM\n",
        "model = TimeDistributed(Dense(50, activation=\"relu\"))(model)  # a dense layer as suggested by neuralNer\n",
        "crf = CRF(n_tags+1)  # CRF layer, n_tags+1(PAD)\n",
        "out = crf(model)  # output\n",
        "\n",
        "model = Model(input, out)\n",
        "model.compile(optimizer=\"rmsprop\", loss=crf.loss_function, metrics=[crf.accuracy])\n",
        "\n",
        "model.summary()"
      ],
      "execution_count": 0,
      "outputs": [
        {
          "output_type": "stream",
          "text": [
            "/usr/local/lib/python3.6/dist-packages/keras_contrib/layers/crf.py:346: UserWarning: CRF.loss_function is deprecated and it might be removed in the future. Please use losses.crf_loss instead.\n",
            "  warnings.warn('CRF.loss_function is deprecated '\n",
            "/usr/local/lib/python3.6/dist-packages/keras_contrib/layers/crf.py:353: UserWarning: CRF.accuracy is deprecated and it might be removed in the future. Please use metrics.crf_accuracy\n",
            "  warnings.warn('CRF.accuracy is deprecated and it '\n"
          ],
          "name": "stderr"
        },
        {
          "output_type": "stream",
          "text": [
            "Model: \"model_1\"\n",
            "_________________________________________________________________\n",
            "Layer (type)                 Output Shape              Param #   \n",
            "=================================================================\n",
            "input_5 (InputLayer)         (None, 75)                0         \n",
            "_________________________________________________________________\n",
            "embedding_3 (Embedding)      (None, 75, 300)           1429800   \n",
            "_________________________________________________________________\n",
            "bidirectional_1 (Bidirection (None, 75, 100)           140400    \n",
            "_________________________________________________________________\n",
            "time_distributed_1 (TimeDist (None, 75, 50)            5050      \n",
            "_________________________________________________________________\n",
            "crf_1 (CRF)                  (None, 75, 3)             168       \n",
            "=================================================================\n",
            "Total params: 1,575,418\n",
            "Trainable params: 145,618\n",
            "Non-trainable params: 1,429,800\n",
            "_________________________________________________________________\n"
          ],
          "name": "stdout"
        }
      ]
    },
    {
      "cell_type": "code",
      "metadata": {
        "id": "6JT-n1gqM9H0",
        "colab_type": "code",
        "outputId": "92f8a687-0d5c-4fbc-c613-fb7fb99a9d94",
        "colab": {
          "base_uri": "https://localhost:8080/",
          "height": 204
        }
      },
      "source": [
        "history = model.fit(X_tr, np.array(y_tr), batch_size=BATCH_SIZE, epochs=EPOCHS,\n",
        "                    validation_split=0.1, verbose=2)"
      ],
      "execution_count": 0,
      "outputs": [
        {
          "output_type": "stream",
          "text": [
            "Train on 1385 samples, validate on 154 samples\n",
            "Epoch 1/5\n",
            " - 7s - loss: 0.3767 - crf_viterbi_accuracy: 0.8348 - val_loss: 0.1575 - val_crf_viterbi_accuracy: 0.9363\n",
            "Epoch 2/5\n",
            " - 5s - loss: 0.1442 - crf_viterbi_accuracy: 0.9427 - val_loss: 0.1379 - val_crf_viterbi_accuracy: 0.9479\n",
            "Epoch 3/5\n",
            " - 5s - loss: 0.1301 - crf_viterbi_accuracy: 0.9486 - val_loss: 0.1315 - val_crf_viterbi_accuracy: 0.9500\n",
            "Epoch 4/5\n",
            " - 5s - loss: 0.1231 - crf_viterbi_accuracy: 0.9496 - val_loss: 0.1245 - val_crf_viterbi_accuracy: 0.9474\n",
            "Epoch 5/5\n",
            " - 5s - loss: 0.1183 - crf_viterbi_accuracy: 0.9511 - val_loss: 0.1199 - val_crf_viterbi_accuracy: 0.9512\n"
          ],
          "name": "stdout"
        }
      ]
    },
    {
      "cell_type": "code",
      "metadata": {
        "id": "76U2f00rEHXZ",
        "colab_type": "code",
        "outputId": "e3859967-08f5-4d25-ae71-7d920adf95f1",
        "colab": {
          "base_uri": "https://localhost:8080/",
          "height": 573
        }
      },
      "source": [
        "# Plot training & validation accuracy values\n",
        "plt.plot(history.history['crf_viterbi_accuracy'])\n",
        "plt.plot(history.history['val_crf_viterbi_accuracy'])\n",
        "plt.title('Model accuracy')\n",
        "plt.ylabel('Accuracy')\n",
        "plt.xlabel('Epoch')\n",
        "plt.legend(['Train', 'Test'])\n",
        "plt.show()\n",
        "\n",
        "# Plot training & validation loss values\n",
        "plt.plot(history.history['loss'])\n",
        "plt.plot(history.history['val_loss'])\n",
        "plt.title('Model loss')\n",
        "plt.ylabel('Loss')\n",
        "plt.xlabel('Epoch')\n",
        "plt.legend(['Train', 'Test'], loc='upper left')\n",
        "plt.show()"
      ],
      "execution_count": 0,
      "outputs": [
        {
          "output_type": "display_data",
          "data": {
            "image/png": "[encoded data removed]",
            "text/plain": [
              "<Figure size 432x288 with 1 Axes>"
            ]
          },
          "metadata": {
            "tags": [],
            "needs_background": "light"
          }
        },
        {
          "output_type": "display_data",
          "data": {
            "image/png": "[encoded data removed]",
            "text/plain": [
              "<Figure size 432x288 with 1 Axes>"
            ]
          },
          "metadata": {
            "tags": [],
            "needs_background": "light"
          }
        }
      ]
    },
    {
      "cell_type": "code",
      "metadata": {
        "id": "edtTv5eHEHUg",
        "colab_type": "code",
        "colab": {}
      },
      "source": [
        "# Evaluation\n",
        "pred_cat = model.predict(X_te)\n",
        "pred = np.argmax(pred_cat, axis=-1)\n",
        "y_te_true = np.argmax(y_te, -1)"
      ],
      "execution_count": 0,
      "outputs": []
    },
    {
      "cell_type": "code",
      "metadata": {
        "id": "rdndWJDDNShQ",
        "colab_type": "code",
        "outputId": "ad9571cd-7627-4a5d-fe25-a772e3213b67",
        "colab": {
          "base_uri": "https://localhost:8080/",
          "height": 187
        }
      },
      "source": [
        "from sklearn_crfsuite.metrics import flat_classification_report    ### using glove\n",
        "# Convert the index to tag\n",
        "pred_tag = [[idx2tag[i] for i in row] for row in pred]\n",
        "y_te_true_tag = [[idx2tag[i] for i in row] for row in y_te_true] \n",
        "\n",
        "report = flat_classification_report(y_pred=pred_tag, y_true=y_te_true_tag)\n",
        "print(report)"
      ],
      "execution_count": 0,
      "outputs": [
        {
          "output_type": "stream",
          "text": [
            "              precision    recall  f1-score   support\n",
            "\n",
            "           P       0.49      0.22      0.30       674\n",
            "         PAD       1.00      1.00      1.00      8755\n",
            "           _       0.86      0.95      0.90      3396\n",
            "\n",
            "    accuracy                           0.94     12825\n",
            "   macro avg       0.78      0.72      0.73     12825\n",
            "weighted avg       0.93      0.94      0.94     12825\n",
            "\n"
          ],
          "name": "stdout"
        }
      ]
    },
    {
      "cell_type": "code",
      "metadata": {
        "id": "_fp56EpvEHP9",
        "colab_type": "code",
        "outputId": "c06a5bf9-1f8d-4e72-996f-adb20b48d579",
        "colab": {
          "base_uri": "https://localhost:8080/",
          "height": 357
        }
      },
      "source": [
        "i = np.random.randint(0,X_te.shape[0]) # choose a random number between 0 and len(X_te)\n",
        "p = model.predict(np.array([X_te[i]]))\n",
        "p = np.argmax(p, axis=-1)\n",
        "true = np.argmax(y_te[i], -1)\n",
        "\n",
        "print(\"Sample number {} of {} (Test Set)\".format(i, X_te.shape[0]))\n",
        "# Visualization\n",
        "print(\"{:15}||{:5}||{}\".format(\"Word\", \"True\", \"Pred\"))\n",
        "print(30 * \"=\")\n",
        "for w, t, pred in zip(X_te[i], true, p[0]):\n",
        "    if w != 0:\n",
        "        print(\"{:15}: {:5} {}\".format(words[w-2], idx2tag[t], idx2tag[pred]))"
      ],
      "execution_count": 0,
      "outputs": [
        {
          "output_type": "stream",
          "text": [
            "Sample number 161 of 171 (Test Set)\n",
            "Word           ||True ||Pred\n",
            "==============================\n",
            "s              : P     P\n",
            ",              : P     _\n",
            "qui            : _     P\n",
            "manifeste      : _     _\n",
            "l'             : P     _\n",
            "importance     : _     _\n",
            "de             : _     _\n",
            "la             : P     _\n",
            "reformulation  : _     _\n",
            "au             : P     _\n",
            "sein           : _     _\n",
            "des            : _     _\n",
            "sciences       : _     _\n",
            "du             : _     _\n",
            "langage        : _     _\n",
            ".              : _     _\n",
            "Â§             : _     _\n"
          ],
          "name": "stdout"
        }
      ]
    },
    {
      "cell_type": "code",
      "metadata": {
        "id": "AfztoKeeEHOr",
        "colab_type": "code",
        "outputId": "6e092cb0-59d6-425b-e91f-394da8ba78da",
        "colab": {
          "base_uri": "https://localhost:8080/",
          "height": 51
        }
      },
      "source": [
        "!ls"
      ],
      "execution_count": 0,
      "outputs": [
        {
          "output_type": "stream",
          "text": [
            "adc.json     glove.6B.100d.txt\tglove.6B.300d.txt  glove.6B.zip\n",
            "df1_new.csv  glove.6B.200d.txt\tglove.6B.50d.txt   sample_data\n"
          ],
          "name": "stdout"
        }
      ]
    },
    {
      "cell_type": "code",
      "metadata": {
        "id": "4AJukJ1aEHFc",
        "colab_type": "code",
        "colab": {}
      },
      "source": [
        ""
      ],
      "execution_count": 0,
      "outputs": []
    }
  ]
}